{
 "cells": [
  {
   "cell_type": "markdown",
   "id": "29fc23d010892547",
   "metadata": {},
   "source": [
    "# AGH DS Laboratory 3 - Actor Model with Ray Framework\n",
    "\n",
    "## Introduction\n",
    "\n",
    "Ray is a general-purpose framework for programming a cluster made by UC Berkeley's RISELab. It enables developers to easily parallelize their Python applications or build new ones, and run them at any scale, from a laptop to a large cluster. It also provides a highly flexible, yet minimalist and easy to use API. \n",
    "\n",
    "#### Documentation Reference Links:\n",
    "\n",
    "Ray official website: https://rise.cs.berkeley.edu/projects/ray/\n",
    "\n",
    "Ray documentation website: http://ray.readthedocs.io/en/latest/\n",
    "\n",
    "GitHub repository: https://github.com/ray-project/ray\n",
    "\n",
    "### Installation\n",
    "Please follow the instructions:\n",
    "\n",
    "Installation: https://docs.ray.io/en/latest/ray-overview/installation.html\n"
   ]
  },
  {
   "cell_type": "markdown",
   "id": "997d0555744a1e39",
   "metadata": {},
   "source": [
    "***\n",
    "## Part 1 - Remote Functions\n",
    "\n",
    "This script is too slow, and the computation is embarrassingly parallel. In this exercise, you will use Ray to execute the functions in parallel to speed it up.\n",
    "\n",
    "The standard way to turn a Python function into a remote function is to add the `@ray.remote` decorator. Here is an example.\n",
    "\n",
    "```python\n",
    "# A regular Python function.\n",
    "def regular_function(x):\n",
    "    return x + 1\n",
    "\n",
    "# A Ray remote function.\n",
    "@ray.remote\n",
    "def remote_function(x):\n",
    "    return x + 1\n",
    "```\n",
    "\n",
    "The differences are the following:\n",
    "\n",
    "1. **Invocation:** The regular version is called with `regular_function(1)`, whereas the remote version is called with `remote_function.remote(1)`.\n",
    "2. **Return values:** `regular_function` immediately executes and returns `1`, whereas `remote_function` immediately returns an object ID (a future) and then creates a task that will be executed on a worker process. The result can be obtained with `ray.get`.\n",
    "    ```python\n",
    "    >>> regular_function(0)\n",
    "    1\n",
    "    \n",
    "    >>> remote_function.remote(0)\n",
    "    ObjectID(1c80d6937802cd7786ad25e50caf2f023c95e350)\n",
    "    \n",
    "    >>> ray.get(remote_function.remote(0))\n",
    "    1\n",
    "    ```\n",
    "3. **Parallelism:** Invocations of `regular_function` happen **serially**, for example\n",
    "    ```python\n",
    "    # These happen serially.\n",
    "    for _ in range(4):\n",
    "        regular_function(0)\n",
    "    ```\n",
    "    whereas invocations of `remote_function` happen in **parallel**, for example\n",
    "    ```python\n",
    "    # These happen in parallel.\n",
    "    for _ in range(4):\n",
    "        remote_function.remote(0)\n",
    "    ```"
   ]
  },
  {
   "cell_type": "code",
   "execution_count": 1,
   "id": "191f3b456acd32fc",
   "metadata": {},
   "outputs": [],
   "source": [
    "from __future__ import absolute_import\n",
    "from __future__ import division\n",
    "from __future__ import print_function\n",
    "\n",
    "import ray\n",
    "import time\n",
    "import numpy as np\n",
    "from numpy import random\n",
    "import os\n",
    "import pickle"
   ]
  },
  {
   "cell_type": "markdown",
   "id": "97096b3f4c6c556c",
   "metadata": {},
   "source": [
    "Start Ray. By default, Ray does not schedule more tasks concurrently than there are CPUs. This example requires four tasks to run concurrently, so we tell Ray that there are four CPUs. Usually this is not done and Ray computes the number of CPUs using `psutil.cpu_count()`. The argument `ignore_reinit_error=True` just ignores errors if the cell is run multiple times.\n",
    "\n",
    "The call to `ray.init` starts a number of processes."
   ]
  },
  {
   "cell_type": "code",
   "execution_count": 2,
   "id": "ef22f58f35121d5d",
   "metadata": {},
   "outputs": [
    {
     "name": "stderr",
     "output_type": "stream",
     "text": [
      "2024-04-04 12:06:13,195\tINFO worker.py:1567 -- Connecting to existing Ray cluster at address: 127.0.0.1:6379...\n",
      "2024-04-04 12:06:13,210\tINFO worker.py:1743 -- Connected to Ray cluster. View the dashboard at \u001b[1m\u001b[32m127.0.0.1:8265 \u001b[39m\u001b[22m\n"
     ]
    },
    {
     "data": {
      "application/vnd.jupyter.widget-view+json": {
       "model_id": "166ff714b09e464197102a030f896dff",
       "version_major": 2,
       "version_minor": 0
      },
      "text/html": [
       "<div class=\"lm-Widget p-Widget lm-Panel p-Panel jp-Cell-outputWrapper\">\n",
       "    <div style=\"margin-left: 50px;display: flex;flex-direction: row;align-items: center\">\n",
       "        <div class=\"jp-RenderedHTMLCommon\" style=\"display: flex; flex-direction: row;\">\n",
       "  <svg viewBox=\"0 0 567 224\" fill=\"none\" xmlns=\"http://www.w3.org/2000/svg\" style=\"height: 3em;\">\n",
       "    <g clip-path=\"url(#clip0_4338_178347)\">\n",
       "        <path d=\"M341.29 165.561H355.29L330.13 129.051C345.63 123.991 354.21 112.051 354.21 94.2307C354.21 71.3707 338.72 58.1807 311.88 58.1807H271V165.561H283.27V131.661H311.8C314.25 131.661 316.71 131.501 319.01 131.351L341.25 165.561H341.29ZM283.29 119.851V70.0007H311.82C331.3 70.0007 342.34 78.2907 342.34 94.5507C342.34 111.271 331.34 119.861 311.82 119.861L283.29 119.851ZM451.4 138.411L463.4 165.561H476.74L428.74 58.1807H416L367.83 165.561H380.83L392.83 138.411H451.4ZM446.19 126.601H398L422 72.1407L446.24 126.601H446.19ZM526.11 128.741L566.91 58.1807H554.35L519.99 114.181L485.17 58.1807H472.44L514.01 129.181V165.541H526.13V128.741H526.11Z\" fill=\"var(--jp-ui-font-color0)\"/>\n",
       "        <path d=\"M82.35 104.44C84.0187 97.8827 87.8248 92.0678 93.1671 87.9146C98.5094 83.7614 105.083 81.5067 111.85 81.5067C118.617 81.5067 125.191 83.7614 130.533 87.9146C135.875 92.0678 139.681 97.8827 141.35 104.44H163.75C164.476 101.562 165.622 98.8057 167.15 96.2605L127.45 56.5605C121.071 60.3522 113.526 61.6823 106.235 60.3005C98.9443 58.9187 92.4094 54.9203 87.8602 49.0574C83.3109 43.1946 81.0609 35.8714 81.5332 28.4656C82.0056 21.0599 85.1679 14.0819 90.4252 8.8446C95.6824 3.60726 102.672 0.471508 110.08 0.0272655C117.487 -0.416977 124.802 1.86091 130.647 6.4324C136.493 11.0039 140.467 17.5539 141.821 24.8501C143.175 32.1463 141.816 39.6859 138 46.0505L177.69 85.7505C182.31 82.9877 187.58 81.4995 192.962 81.4375C198.345 81.3755 203.648 82.742 208.33 85.3976C213.012 88.0532 216.907 91.9029 219.616 96.5544C222.326 101.206 223.753 106.492 223.753 111.875C223.753 117.258 222.326 122.545 219.616 127.197C216.907 131.848 213.012 135.698 208.33 138.353C203.648 141.009 198.345 142.375 192.962 142.313C187.58 142.251 182.31 140.763 177.69 138L138 177.7C141.808 184.071 143.155 191.614 141.79 198.91C140.424 206.205 136.44 212.75 130.585 217.313C124.731 221.875 117.412 224.141 110.004 223.683C102.596 223.226 95.6103 220.077 90.3621 214.828C85.1139 209.58 81.9647 202.595 81.5072 195.187C81.0497 187.779 83.3154 180.459 87.878 174.605C92.4405 168.751 98.9853 164.766 106.281 163.401C113.576 162.035 121.119 163.383 127.49 167.19L167.19 127.49C165.664 124.941 164.518 122.182 163.79 119.3H141.39C139.721 125.858 135.915 131.673 130.573 135.826C125.231 139.98 118.657 142.234 111.89 142.234C105.123 142.234 98.5494 139.98 93.2071 135.826C87.8648 131.673 84.0587 125.858 82.39 119.3H60C58.1878 126.495 53.8086 132.78 47.6863 136.971C41.5641 141.163 34.1211 142.972 26.7579 142.059C19.3947 141.146 12.6191 137.574 7.70605 132.014C2.79302 126.454 0.0813599 119.29 0.0813599 111.87C0.0813599 104.451 2.79302 97.2871 7.70605 91.7272C12.6191 86.1673 19.3947 82.5947 26.7579 81.6817C34.1211 80.7686 41.5641 82.5781 47.6863 86.7696C53.8086 90.9611 58.1878 97.2456 60 104.44H82.35ZM100.86 204.32C103.407 206.868 106.759 208.453 110.345 208.806C113.93 209.159 117.527 208.258 120.522 206.256C123.517 204.254 125.725 201.276 126.771 197.828C127.816 194.38 127.633 190.677 126.253 187.349C124.874 184.021 122.383 181.274 119.205 179.577C116.027 177.88 112.359 177.337 108.826 178.042C105.293 178.746 102.113 180.654 99.8291 183.44C97.5451 186.226 96.2979 189.718 96.3 193.32C96.2985 195.364 96.7006 197.388 97.4831 199.275C98.2656 201.163 99.4132 202.877 100.86 204.32ZM204.32 122.88C206.868 120.333 208.453 116.981 208.806 113.396C209.159 109.811 208.258 106.214 206.256 103.219C204.254 100.223 201.275 98.0151 197.827 96.97C194.38 95.9249 190.676 96.1077 187.348 97.4873C184.02 98.8669 181.274 101.358 179.577 104.536C177.879 107.714 177.337 111.382 178.041 114.915C178.746 118.448 180.653 121.627 183.439 123.911C186.226 126.195 189.717 127.443 193.32 127.44C195.364 127.443 197.388 127.042 199.275 126.259C201.163 125.476 202.878 124.328 204.32 122.88ZM122.88 19.4205C120.333 16.8729 116.981 15.2876 113.395 14.9347C109.81 14.5817 106.213 15.483 103.218 17.4849C100.223 19.4868 98.0146 22.4654 96.9696 25.9131C95.9245 29.3608 96.1073 33.0642 97.4869 36.3922C98.8665 39.7202 101.358 42.4668 104.535 44.1639C107.713 45.861 111.381 46.4036 114.914 45.6992C118.447 44.9949 121.627 43.0871 123.911 40.301C126.195 37.515 127.442 34.0231 127.44 30.4205C127.44 28.3772 127.038 26.3539 126.255 24.4664C125.473 22.5788 124.326 20.8642 122.88 19.4205ZM19.42 100.86C16.8725 103.408 15.2872 106.76 14.9342 110.345C14.5813 113.93 15.4826 117.527 17.4844 120.522C19.4863 123.518 22.4649 125.726 25.9127 126.771C29.3604 127.816 33.0638 127.633 36.3918 126.254C39.7198 124.874 42.4664 122.383 44.1635 119.205C45.8606 116.027 46.4032 112.359 45.6988 108.826C44.9944 105.293 43.0866 102.114 40.3006 99.8296C37.5145 97.5455 34.0227 96.2983 30.42 96.3005C26.2938 96.3018 22.337 97.9421 19.42 100.86ZM100.86 100.86C98.3125 103.408 96.7272 106.76 96.3742 110.345C96.0213 113.93 96.9226 117.527 98.9244 120.522C100.926 123.518 103.905 125.726 107.353 126.771C110.8 127.816 114.504 127.633 117.832 126.254C121.16 124.874 123.906 122.383 125.604 119.205C127.301 116.027 127.843 112.359 127.139 108.826C126.434 105.293 124.527 102.114 121.741 99.8296C118.955 97.5455 115.463 96.2983 111.86 96.3005C109.817 96.299 107.793 96.701 105.905 97.4835C104.018 98.2661 102.303 99.4136 100.86 100.86Z\" fill=\"#00AEEF\"/>\n",
       "    </g>\n",
       "    <defs>\n",
       "        <clipPath id=\"clip0_4338_178347\">\n",
       "            <rect width=\"566.93\" height=\"223.75\" fill=\"white\"/>\n",
       "        </clipPath>\n",
       "    </defs>\n",
       "  </svg>\n",
       "</div>\n",
       "\n",
       "        <table class=\"jp-RenderedHTMLCommon\" style=\"border-collapse: collapse;color: var(--jp-ui-font-color1);font-size: var(--jp-ui-font-size1);\">\n",
       "    <tr>\n",
       "        <td style=\"text-align: left\"><b>Python version:</b></td>\n",
       "        <td style=\"text-align: left\"><b>3.9.12</b></td>\n",
       "    </tr>\n",
       "    <tr>\n",
       "        <td style=\"text-align: left\"><b>Ray version:</b></td>\n",
       "        <td style=\"text-align: left\"><b>2.10.0</b></td>\n",
       "    </tr>\n",
       "    <tr>\n",
       "    <td style=\"text-align: left\"><b>Dashboard:</b></td>\n",
       "    <td style=\"text-align: left\"><b><a href=\"http://127.0.0.1:8265\" target=\"_blank\">http://127.0.0.1:8265</a></b></td>\n",
       "</tr>\n",
       "\n",
       "</table>\n",
       "\n",
       "    </div>\n",
       "</div>\n"
      ],
      "text/plain": [
       "RayContext(dashboard_url='127.0.0.1:8265', python_version='3.9.12', ray_version='2.10.0', ray_commit='09abba26b5bf2707639bb637c208d062a47b46f6')"
      ]
     },
     "execution_count": 2,
     "metadata": {},
     "output_type": "execute_result"
    }
   ],
   "source": [
    "if ray.is_initialized:\n",
    "    ray.shutdown()\n",
    "ray.init(ignore_reinit_error=True)"
   ]
  },
  {
   "cell_type": "code",
   "execution_count": 3,
   "id": "fb85268744fc62ba",
   "metadata": {},
   "outputs": [],
   "source": [
    "# This function is a proxy for a more interesting and computationally\n",
    "# intensive function.\n",
    "@ray.remote\n",
    "def slow_function(i):\n",
    "    time.sleep(1)\n",
    "    return i"
   ]
  },
  {
   "cell_type": "markdown",
   "id": "5c4646fb8e9d5f93",
   "metadata": {},
   "source": [
    "**EXERCISE:** The loop below takes too long. The four function calls could be executed in parallel. Instead of four seconds, it should only take one second. Once `slow_function` has been made a remote function, execute these four tasks in parallel by calling `slow_function.remote()`. Then obtain the results by calling `ray.get` on a list of the resulting object IDs."
   ]
  },
  {
   "cell_type": "code",
   "execution_count": 4,
   "id": "ca6151ffe5a4383e",
   "metadata": {},
   "outputs": [
    {
     "name": "stdout",
     "output_type": "stream",
     "text": [
      "The results are [0, 1, 2, 3]. This took 1.3361902236938477 seconds. Run the next cell to see if the exercise was done correctly.\n"
     ]
    }
   ],
   "source": [
    "# Sleep a little to improve the accuracy of the timing measurements below.\n",
    "# We do this because workers may still be starting up in the background.\n",
    "time.sleep(2.0)\n",
    "start_time = time.time()\n",
    "\n",
    "results = [slow_function.remote(i) for i in range(4)]\n",
    "results = ray.get(results)\n",
    "end_time = time.time()\n",
    "duration = end_time - start_time\n",
    "\n",
    "print('The results are {}. This took {} seconds. Run the next cell to see '\n",
    "      'if the exercise was done correctly.'.format(results, duration))"
   ]
  },
  {
   "cell_type": "markdown",
   "id": "e07bc6009fe78751",
   "metadata": {},
   "source": [
    "**VERIFY:** Run some checks to verify that the changes you made to the code were correct. Some of the checks should fail when you initially run the cells. After completing the exercises, the checks should pass."
   ]
  },
  {
   "cell_type": "code",
   "execution_count": 5,
   "id": "90ebedc34cecbb95",
   "metadata": {},
   "outputs": [
    {
     "ename": "AssertionError",
     "evalue": "The loop took 1.3361902236938477 seconds. This is too slow.",
     "output_type": "error",
     "traceback": [
      "\u001b[0;31m---------------------------------------------------------------------------\u001b[0m",
      "\u001b[0;31mAssertionError\u001b[0m                            Traceback (most recent call last)",
      "\u001b[0;32m/var/folders/c8/6sj0rlqd05x55189q4y5_d3m0000gn/T/ipykernel_14165/2453610034.py\u001b[0m in \u001b[0;36m<cell line: 2>\u001b[0;34m()\u001b[0m\n\u001b[1;32m      1\u001b[0m \u001b[0;32massert\u001b[0m \u001b[0mresults\u001b[0m \u001b[0;34m==\u001b[0m \u001b[0;34m[\u001b[0m\u001b[0;36m0\u001b[0m\u001b[0;34m,\u001b[0m \u001b[0;36m1\u001b[0m\u001b[0;34m,\u001b[0m \u001b[0;36m2\u001b[0m\u001b[0;34m,\u001b[0m \u001b[0;36m3\u001b[0m\u001b[0;34m]\u001b[0m\u001b[0;34m,\u001b[0m \u001b[0;34m'Did you remember to call ray.get?'\u001b[0m\u001b[0;34m\u001b[0m\u001b[0;34m\u001b[0m\u001b[0m\n\u001b[0;32m----> 2\u001b[0;31m assert duration < 1.1, ('The loop took {} seconds. This is too slow.'\n\u001b[0m\u001b[1;32m      3\u001b[0m                         .format(duration))\n\u001b[1;32m      4\u001b[0m assert duration > 1, ('The loop took {} seconds. This is too fast.'\n\u001b[1;32m      5\u001b[0m                       .format(duration))\n",
      "\u001b[0;31mAssertionError\u001b[0m: The loop took 1.3361902236938477 seconds. This is too slow."
     ]
    }
   ],
   "source": [
    "assert results == [0, 1, 2, 3], 'Did you remember to call ray.get?'\n",
    "assert duration < 1.1, ('The loop took {} seconds. This is too slow.'\n",
    "                        .format(duration))\n",
    "assert duration > 1, ('The loop took {} seconds. This is too fast.'\n",
    "                      .format(duration))\n",
    "\n",
    "print('Success! The example took {} seconds.'.format(duration))"
   ]
  },
  {
   "cell_type": "markdown",
   "id": "60138313f53b48a3",
   "metadata": {},
   "source": [
    "** Example Generating Fibonnaci series **\n",
    "Let's define two functions: one runs locally or serially, the other runs on a Ray cluster (local or remote). Please implment it"
   ]
  },
  {
   "cell_type": "code",
   "execution_count": 41,
   "id": "5dfc292ebb5a982b",
   "metadata": {},
   "outputs": [],
   "source": [
    "# Function for local fibonacci computation\n",
    "def generate_fibonacci(sequence_size):\n",
    "    fibonacci = []\n",
    "    for i in range(sequence_size):\n",
    "        if i<2:\n",
    "            fibonacci.append(i)\n",
    "            continue\n",
    "        fibonacci.append(fibonacci[i-1]+fibonacci[i-2])\n",
    "    return len(fibonacci)\n",
    "\n",
    "# Function for remote Ray task with just a wrapper\n",
    "@ray.remote\n",
    "def generate_fibonacci_distributed(sequence_size):\n",
    "    return generate_fibonacci(sequence_size)"
   ]
  },
  {
   "cell_type": "code",
   "execution_count": 42,
   "id": "22a15f29d14df7b6",
   "metadata": {},
   "outputs": [
    {
     "data": {
      "text/plain": [
       "8"
      ]
     },
     "execution_count": 42,
     "metadata": {},
     "output_type": "execute_result"
    }
   ],
   "source": [
    "# Get the number of cores for better parralelism\n",
    "os.cpu_count()"
   ]
  },
  {
   "cell_type": "code",
   "execution_count": 43,
   "id": "9cbd8721a3c6ff94",
   "metadata": {},
   "outputs": [
    {
     "name": "stdout",
     "output_type": "stream",
     "text": [
      "CPU times: user 2.62 s, sys: 1.61 s, total: 4.22 s\n",
      "Wall time: 4.3 s\n"
     ]
    },
    {
     "data": {
      "text/plain": [
       "[100000, 100000, 100000, 100000, 100000, 100000, 100000, 100000]"
      ]
     },
     "execution_count": 43,
     "metadata": {},
     "output_type": "execute_result"
    }
   ],
   "source": [
    "# Normal Python in a single process\n",
    "def run_local(sequence_size):\n",
    "    results = [generate_fibonacci(sequence_size) for _ in range(os.cpu_count())]\n",
    "    return results\n",
    "\n",
    "SEQUENCE_SIZE = 100000\n",
    "%time run_local(SEQUENCE_SIZE)\n"
   ]
  },
  {
   "cell_type": "code",
   "execution_count": 44,
   "id": "667b6946b4641f33",
   "metadata": {},
   "outputs": [
    {
     "name": "stdout",
     "output_type": "stream",
     "text": [
      "CPU times: user 27.4 ms, sys: 31.6 ms, total: 59 ms\n",
      "Wall time: 5.25 s\n"
     ]
    },
    {
     "data": {
      "text/plain": [
       "[100000, 100000, 100000, 100000, 100000, 100000, 100000, 100000]"
      ]
     },
     "execution_count": 44,
     "metadata": {},
     "output_type": "execute_result"
    }
   ],
   "source": [
    "# Distributed on a Ray cluster\n",
    "def run_remote(sequence_size):\n",
    "    results = ray.get([generate_fibonacci_distributed.remote(sequence_size) for _ in range(os.cpu_count())])\n",
    "    return results\n",
    "\n",
    "%time run_remote(SEQUENCE_SIZE)"
   ]
  },
  {
   "cell_type": "markdown",
   "id": "5955a53ffcf75185",
   "metadata": {},
   "source": [
    "***\n",
    "## Part 2 - Parallel Data Processing with Task Dependencies\n",
    "\n",
    "**GOAL:** The goal of this exercise is to show how to pass object IDs into remote functions to encode dependencies between tasks.\n",
    "\n",
    "In this exercise, we construct a sequence of tasks each of which depends on the previous mimicking a data parallel application. Within each sequence, tasks are executed serially, but multiple sequences can be executed in parallel.\n",
    "\n",
    "In this exercise, you will use Ray to parallelize the computation below and speed it up.\n",
    "\n",
    "### Concept for this Exercise - Task Dependencies\n",
    "\n",
    "Suppose we have two remote functions defined as follows.\n",
    "\n",
    "```python\n",
    "@ray.remote\n",
    "def f(x):\n",
    "    return x\n",
    "```\n",
    "\n",
    "Arguments can be passed into remote functions as usual.\n",
    "\n",
    "```python\n",
    ">>> x1_id = f.remote(1)\n",
    ">>> ray.get(x1_id)\n",
    "1\n",
    "\n",
    ">>> x2_id = f.remote([1, 2, 3])\n",
    ">>> ray.get(x2_id)\n",
    "[1, 2, 3]\n",
    "```\n",
    "\n",
    "**Object IDs** can also be passed into remote functions. When the function actually gets executed, **the argument will be a retrieved as a regular Python object**.\n",
    "\n",
    "```python\n",
    ">>> y1_id = f.remote(x1_id)\n",
    ">>> ray.get(y1_id)\n",
    "1\n",
    "\n",
    ">>> y2_id = f.remote(x2_id)\n",
    ">>> ray.get(y2_id)\n",
    "[1, 2, 3]\n",
    "```\n",
    "\n",
    "So when implementing a remote function, the function should expect a regular Python object regardless of whether the caller passes in a regular Python object or an object ID.\n",
    "\n",
    "**Task dependencies affect scheduling.** In the example above, the task that creates `y1_id` depends on the task that creates `x1_id`. This has the following implications.\n",
    "\n",
    "- The second task will not be executed until the first task has finished executing.\n",
    "- If the two tasks are scheduled on different machines, the output of the first task (the value corresponding to `x1_id`) will be copied over the network to the machine where the second task is scheduled.\n"
   ]
  },
  {
   "cell_type": "markdown",
   "id": "b88e887feff3e438",
   "metadata": {},
   "source": [
    "These are some helper functions that mimic an example pattern of a data parallel application.\n",
    "\n",
    "**EXERCISE:** You will need to turn all of these functions into remote functions. When you turn these functions into remote function, you do not have to worry about whether the caller passes in an object ID or a regular object. In both cases, the arguments will be regular objects when the function executes. This means that even if you pass in an object ID, you **do not need to call `ray.get`** inside of these remote functions."
   ]
  },
  {
   "cell_type": "code",
   "execution_count": 45,
   "id": "8b739cc28319de38",
   "metadata": {},
   "outputs": [],
   "source": [
    "@ray.remote\n",
    "def load_data(filename):\n",
    "    time.sleep(0.1)\n",
    "    return np.ones((1000, 100))\n",
    "\n",
    "@ray.remote\n",
    "def normalize_data(data):\n",
    "    time.sleep(0.1)\n",
    "    return data - np.mean(data, axis=0)\n",
    "\n",
    "@ray.remote\n",
    "def extract_features(normalized_data):\n",
    "    time.sleep(0.1)\n",
    "    return np.hstack([normalized_data, normalized_data ** 2])\n",
    "\n",
    "@ray.remote\n",
    "def compute_loss(features):\n",
    "    num_data, dim = features.shape\n",
    "    time.sleep(0.1)\n",
    "    return np.sum((np.dot(features, np.ones(dim)) - np.ones(num_data)) ** 2)\n",
    "\n",
    "assert hasattr(load_data, 'remote'), 'load_data must be a remote function'\n",
    "assert hasattr(normalize_data, 'remote'), 'normalize_data must be a remote function'\n",
    "assert hasattr(extract_features, 'remote'), 'extract_features must be a remote function'\n",
    "assert hasattr(compute_loss, 'remote'), 'compute_loss must be a remote function'"
   ]
  },
  {
   "cell_type": "markdown",
   "id": "6f031d1ddeb96bc2",
   "metadata": {},
   "source": [
    "**EXERCISE:** The loop below takes too long. Parallelize the four passes through the loop by turning `load_data`, `normalize_data`, `extract_features`, and `compute_loss` into remote functions and then retrieving the losses with `ray.get`.\n",
    "\n",
    "**NOTE:** You should only use **ONE** call to `ray.get`. For example, the object ID returned by `load_data` should be passed directly into `normalize_data` without needing to be retrieved by the driver."
   ]
  },
  {
   "cell_type": "code",
   "execution_count": 46,
   "id": "5f11fd817ae6b435",
   "metadata": {},
   "outputs": [
    {
     "name": "stdout",
     "output_type": "stream",
     "text": [
      "The losses are [1000.0, 1000.0, 1000.0, 1000.0].\n",
      "\n",
      "The loss is 4000.0. This took 0.7349369525909424 seconds. Run the next cell to see if the exercise was done correctly.\n"
     ]
    }
   ],
   "source": [
    "# Sleep a little to improve the accuracy of the timing measurements below.\n",
    "time.sleep(2.0)\n",
    "start_time = time.time()\n",
    "\n",
    "losses = []\n",
    "for filename in ['file1', 'file2', 'file3', 'file4']:\n",
    "    inner_start = time.time()\n",
    "\n",
    "    data = load_data.remote(filename)\n",
    "    normalized_data = normalize_data.remote(data)\n",
    "    features = extract_features.remote(normalized_data)\n",
    "    loss = compute_loss.remote(features)\n",
    "    losses.append(loss)\n",
    "    \n",
    "    inner_end = time.time()\n",
    "    \n",
    "    if inner_end - inner_start >= 0.1:\n",
    "        raise Exception('You may be calling ray.get inside of the for loop! '\n",
    "                        'Doing this will prevent parallelism from being exposed. '\n",
    "                        'Make sure to only call ray.get once outside of the for loop.')\n",
    "\n",
    "losses = ray.get(losses)\n",
    "print('The losses are {}.'.format(losses) + '\\n')\n",
    "loss = sum(losses)\n",
    "\n",
    "end_time = time.time()\n",
    "duration = end_time - start_time\n",
    "\n",
    "print('The loss is {}. This took {} seconds. Run the next cell to see '\n",
    "      'if the exercise was done correctly.'.format(loss, duration))"
   ]
  },
  {
   "cell_type": "markdown",
   "id": "bbfac1ca0c96db37",
   "metadata": {},
   "source": [
    "**VERIFY:** Run some checks to verify that the changes you made to the code were correct. Some of the checks should fail when you initially run the cells. After completing the exercises, the checks should pass."
   ]
  },
  {
   "cell_type": "code",
   "execution_count": 47,
   "id": "a4cb48fa6fc3671e",
   "metadata": {},
   "outputs": [
    {
     "name": "stdout",
     "output_type": "stream",
     "text": [
      "Success! The example took 0.7349369525909424 seconds.\n"
     ]
    }
   ],
   "source": [
    "assert loss == 4000\n",
    "assert duration < 0.8, ('The loop took {} seconds. This is too slow.'\n",
    "                        .format(duration))\n",
    "assert duration > 0.4, ('The loop took {} seconds. This is too fast.'\n",
    "                        .format(duration))\n",
    "\n",
    "print('Success! The example took {} seconds.'.format(duration))"
   ]
  },
  {
   "cell_type": "markdown",
   "id": "6750753a1dd13313",
   "metadata": {},
   "source": [
    "***\n",
    "## Part 3 - Introducing Actors\n",
    "\n",
    "**Goal:** The goal of this exercise is to show how to create an actor and how to call actor methods.\n",
    "\n",
    "See the documentation on actors at https://docs.ray.io/en/latest/ray-core/actors.html.\n",
    "\n",
    "Sometimes you need a \"worker\" process to have \"state\". For example, that state might be a neural network, a simulator environment, a counter, or something else entirely. However, remote functions are side-effect free. That is, they operate on inputs and produce outputs, but they don't change the state of the worker they execute on.\n",
    "\n",
    "Actors are different. When we instantiate an actor, a brand new worker is created, and all methods that are called on that actor are executed on the newly created worker.\n",
    "\n",
    "This means that with a single actor, no parallelism can be achieved because calls to the actor's methods will be executed one at a time. However, multiple actors can be created and methods can be executed on them in parallel.\n",
    "\n",
    "### Concepts for this Exercise - Actors\n",
    "\n",
    "To create an actor, decorate Python class with the `@ray.remote` decorator.\n",
    "\n",
    "```python\n",
    "@ray.remote\n",
    "class Example(object):\n",
    "    def __init__(self, x):\n",
    "        self.x = x\n",
    "    \n",
    "    def set(self, x):\n",
    "        self.x = x\n",
    "    \n",
    "    def get(self):\n",
    "        return self.x\n",
    "```\n",
    "\n",
    "Like regular Python classes, **actors encapsulate state that is shared across actor method invocations**.\n",
    "\n",
    "Actor classes differ from regular Python classes in the following ways.\n",
    "1. **Instantiation:** A regular class would be instantiated via `e = Example(1)`. Actors are instantiated via\n",
    "    ```python\n",
    "    e = Example.remote(1)\n",
    "    ```\n",
    "    When an actor is instantiated, a **new worker process** is created by a local scheduler somewhere in the cluster.\n",
    "2. **Method Invocation:** Methods of a regular class would be invoked via `e.set(2)` or `e.get()`. Actor methods are invoked differently.\n",
    "    ```python\n",
    "    >>> e.set.remote(2)\n",
    "    ObjectID(d966aa9b6486331dc2257522734a69ff603e5a1c)\n",
    "    \n",
    "    >>> e.get.remote()\n",
    "    ObjectID(7c432c085864ed4c7c18cf112377a608676afbc3)\n",
    "    ```\n",
    "3. **Return Values:** Actor methods are non-blocking. They immediately return an object ID and **they create a task which is scheduled on the actor worker**. The result can be retrieved with `ray.get`.\n",
    "    ```python\n",
    "    >>> ray.get(e.set.remote(2))\n",
    "    None\n",
    "    \n",
    "    >>> ray.get(e.get.remote())\n",
    "    2\n",
    "    ```"
   ]
  },
  {
   "cell_type": "markdown",
   "id": "136d2f7e4b154088",
   "metadata": {},
   "source": [
    "**EXERCISE:** Change the `Foo` class to be an actor class by using the `@ray.remote` decorator."
   ]
  },
  {
   "cell_type": "code",
   "execution_count": 48,
   "id": "e027e2a2af11648e",
   "metadata": {},
   "outputs": [],
   "source": [
    "@ray.remote\n",
    "class Foo(object):\n",
    "    def __init__(self):\n",
    "        self.counter = 0\n",
    "\n",
    "    def reset(self):\n",
    "        self.counter = 0\n",
    "\n",
    "    def increment(self):\n",
    "        time.sleep(0.5)\n",
    "        self.counter += 1\n",
    "        return self.counter\n",
    "\n",
    "assert hasattr(Foo, 'remote'), 'You need to turn \"Foo\" into an actor with @ray.remote.'"
   ]
  },
  {
   "cell_type": "markdown",
   "id": "a654a0b9ffe4d2b0",
   "metadata": {},
   "source": [
    "**EXERCISE:** Change the intantiations below to create two actors by calling `Foo.remote()`."
   ]
  },
  {
   "cell_type": "code",
   "execution_count": 49,
   "id": "6b68dfb348c94076",
   "metadata": {},
   "outputs": [],
   "source": [
    "# Create two Foo objects.\n",
    "f1 = Foo.remote()\n",
    "f2 = Foo.remote()"
   ]
  },
  {
   "cell_type": "markdown",
   "id": "eba108b7ba52ddf7",
   "metadata": {},
   "source": [
    "**EXERCISE:** Parallelize the code below. The two actors can execute methods in parallel (though each actor can only execute one method at a time)."
   ]
  },
  {
   "cell_type": "code",
   "execution_count": 50,
   "id": "c537e12344716e0",
   "metadata": {},
   "outputs": [
    {
     "name": "stdout",
     "output_type": "stream",
     "text": [
      "Success! The example took 2.682554244995117 seconds.\n"
     ]
    }
   ],
   "source": [
    "# Sleep a little to improve the accuracy of the timing measurements below.\n",
    "time.sleep(2.0)\n",
    "start_time = time.time()\n",
    "\n",
    "# Reset the actor state so that we can run this cell multiple times without\n",
    "# changing the results.\n",
    "f1.reset.remote()\n",
    "f2.reset.remote()\n",
    "\n",
    "# We want to parallelize this code. However, it is not straightforward to\n",
    "# make \"increment\" a remote function, because state is shared (the value of\n",
    "# \"self.counter\") between subsequent calls to \"increment\". In this case, it\n",
    "# makes sense to use actors.\n",
    "results = []\n",
    "for _ in range(5):\n",
    "    results.append(f1.increment.remote())\n",
    "    results.append(f2.increment.remote())\n",
    "\n",
    "results = ray.get(results)\n",
    "end_time = time.time()\n",
    "duration = end_time - start_time\n",
    "print('Success! The example took {} seconds.'.format(duration))\n",
    "\n",
    "assert not any([isinstance(result, ray.ObjectID) for result in results]), 'Looks like \"results\" is {}. You may have forgotten to call ray.get.'.format(results)"
   ]
  },
  {
   "cell_type": "markdown",
   "id": "85bf30d5a992ecc6",
   "metadata": {},
   "source": [
    "**VERIFY:** Run some checks to verify that the changes you made to the code were correct. Some of the checks should fail when you initially run the cells. After completing the exercises, the checks should pass."
   ]
  },
  {
   "cell_type": "code",
   "execution_count": 51,
   "id": "b97d77030a0685c9",
   "metadata": {},
   "outputs": [
    {
     "name": "stdout",
     "output_type": "stream",
     "text": [
      "Success! The example took 2.682554244995117 seconds.\n"
     ]
    }
   ],
   "source": [
    "assert results == [1, 1, 2, 2, 3, 3, 4, 4, 5, 5]\n",
    "\n",
    "assert duration < 3, ('The experiments ran in {} seconds. This is too '\n",
    "                      'slow.'.format(duration))\n",
    "assert duration > 2.5, ('The experiments ran in {} seconds. This is too '\n",
    "                        'fast.'.format(duration))\n",
    "\n",
    "print('Success! The example took {} seconds.'.format(duration))"
   ]
  },
  {
   "cell_type": "markdown",
   "id": "515b25c1cc382a7d",
   "metadata": {},
   "source": [
    "***\n",
    "## Part 4 - Handling Slow Tasks\n",
    "\n",
    "**GOAL:** The goal of this exercise is to show how to use `ray.wait` to avoid waiting for slow tasks.\n",
    "\n",
    "See the documentation for ray.wait at https://docs.ray.io/en/latest/ray-core/api/doc/ray.wait.html.\n",
    "\n",
    "This script starts 6 tasks, each of which takes a random amount of time to complete. We'd like to process the results in two batches (each of size 3). Change the code so that instead of waiting for a fixed set of 3 tasks to finish, we make the first batch consist of the first 3 tasks that complete. The second batch should consist of the 3 remaining tasks. Do this exercise by using `ray.wait`.\n",
    "\n",
    "### Concepts for this Exercise - ray.wait\n",
    "\n",
    "After launching a number of tasks, you may want to know which ones have finished executing. This can be done with `ray.wait`. The function works as follows.\n",
    "\n",
    "```python\n",
    "ready_ids, remaining_ids = ray.wait(object_ids, num_returns=1, timeout=None)\n",
    "```\n",
    "\n",
    "**Arguments:**\n",
    "- `object_ids`: This is a list of object IDs.\n",
    "- `num_returns`: This is maximum number of object IDs to wait for. The default value is `1`.\n",
    "- `timeout`: This is the maximum amount of time in milliseconds to wait for. So `ray.wait` will block until either `num_returns` objects are ready or until `timeout` milliseconds have passed.\n",
    "\n",
    "**Return values:**\n",
    "- `ready_ids`: This is a list of object IDs that are available in the object store.\n",
    "- `remaining_ids`: This is a list of the IDs that were in `object_ids` but are not in `ready_ids`, so the IDs in `ready_ids` and `remaining_ids` together make up all the IDs in `object_ids`."
   ]
  },
  {
   "cell_type": "markdown",
   "id": "42a962991ebe87c9",
   "metadata": {},
   "source": [
    "Define a remote function that takes a variable amount of time to run."
   ]
  },
  {
   "cell_type": "code",
   "execution_count": 71,
   "id": "f074581413569513",
   "metadata": {},
   "outputs": [],
   "source": [
    "@ray.remote\n",
    "def f(i):\n",
    "    np.random.seed(5 + i)\n",
    "    x = np.random.uniform(0, 4)\n",
    "    time.sleep(x)\n",
    "    return i, time.time()"
   ]
  },
  {
   "cell_type": "markdown",
   "id": "e1d5df3925dc3632",
   "metadata": {},
   "source": [
    "**EXERCISE:** Using `ray.wait`, change the code below so that `initial_results` consists of the outputs of the first three tasks to complete instead of the first three tasks that were submitted."
   ]
  },
  {
   "cell_type": "code",
   "execution_count": 75,
   "id": "8bc87828350d4f8",
   "metadata": {},
   "outputs": [],
   "source": [
    "# Sleep a little to improve the accuracy of the timing measurements below.\n",
    "time.sleep(2.0)\n",
    "start_time = time.time()\n",
    "\n",
    "# This launches 6 tasks, each of which takes a random amount of time to\n",
    "# complete.\n",
    "result_ids = [f.remote(i) for i in range(6)]\n",
    "# Get one batch of tasks. Instead of waiting for a fixed subset of tasks, we\n",
    "# should instead use the first 3 tasks that finish.\n",
    "initial_results, remaining_ids = ray.wait(result_ids, num_returns=3, timeout=None)\n",
    "initial_results = ray.get(initial_results)\n",
    "end_time = time.time()\n",
    "duration = end_time - start_time"
   ]
  },
  {
   "cell_type": "markdown",
   "id": "bc690fab568a7b2c",
   "metadata": {},
   "source": [
    "**EXERCISE:** Change the code below so that `remaining_results` consists of the outputs of the last three tasks to complete."
   ]
  },
  {
   "cell_type": "code",
   "execution_count": 76,
   "id": "f572438b64f3109e",
   "metadata": {},
   "outputs": [],
   "source": [
    "# Wait for the remaining tasks to complete.\n",
    "remaining_results = ray.get(remaining_ids)"
   ]
  },
  {
   "cell_type": "markdown",
   "id": "bc3963e7a331d603",
   "metadata": {},
   "source": [
    "**VERIFY:** Run some checks to verify that the changes you made to the code were correct. Some of the checks should fail when you initially run the cells. After completing the exercises, the checks should pass."
   ]
  },
  {
   "cell_type": "code",
   "execution_count": 77,
   "id": "7f868867384aa5d9",
   "metadata": {},
   "outputs": [
    {
     "name": "stdout",
     "output_type": "stream",
     "text": [
      "Success! The example took 0.8994560241699219 seconds.\n"
     ]
    }
   ],
   "source": [
    "assert len(initial_results) == 3\n",
    "assert len(remaining_results) == 3\n",
    "\n",
    "initial_indices = [result[0] for result in initial_results]\n",
    "initial_times = [result[1] for result in initial_results]\n",
    "remaining_indices = [result[0] for result in remaining_results]\n",
    "remaining_times = [result[1] for result in remaining_results]\n",
    "\n",
    "assert set(initial_indices + remaining_indices) == set(range(6))\n",
    "\n",
    "assert duration < 1.5, ('The initial batch of ten tasks was retrieved in '\n",
    "                        '{} seconds. This is too slow.'.format(duration))\n",
    "\n",
    "assert duration > 0.8, ('The initial batch of ten tasks was retrieved in '\n",
    "                        '{} seconds. This is too fast.'.format(duration))\n",
    "\n",
    "# Make sure the initial results actually completed first.\n",
    "assert max(initial_times) < min(remaining_times)\n",
    "\n",
    "print('Success! The example took {} seconds.'.format(duration))"
   ]
  },
  {
   "cell_type": "markdown",
   "id": "f6bb8c54778eae68",
   "metadata": {},
   "source": [
    "## Part 5 - Speed up Serialization\n",
    "\n",
    "**GOAL:** The goal of this exercise is to illustrate how to speed up serialization by using `ray.put`.\n",
    "\n",
    "### Concepts for this Exercise - ray.put\n",
    "\n",
    "Object IDs can be created in multiple ways.\n",
    "- They are returned by remote function calls.\n",
    "- They are returned by actor method calls.\n",
    "- They are returned by `ray.put`.\n",
    "\n",
    "When an object is passed to `ray.put`, the object is serialized using the Apache Arrow format (see https://arrow.apache.org/ for more information about Arrow) and copied into a shared memory object store. This object will then be available to other workers on the same machine via shared memory. If it is needed by workers on another machine, it will be shipped under the hood.\n",
    "\n",
    "**When objects are passed into a remote function, Ray puts them in the object store under the hood.** That is, if `f` is a remote function, the code\n",
    "\n",
    "```python\n",
    "x = np.zeros(1000)\n",
    "f.remote(x)\n",
    "```\n",
    "\n",
    "is essentially transformed under the hood to\n",
    "\n",
    "```python\n",
    "x = np.zeros(1000)\n",
    "x_id = ray.put(x)\n",
    "f.remote(x_id)\n",
    "```\n",
    "\n",
    "The call to `ray.put` copies the numpy array into the shared-memory object store, from where it can be read by all of the worker processes (without additional copying). However, if you do something like\n",
    "\n",
    "```python\n",
    "for i in range(10):\n",
    "    f.remote(x)\n",
    "```\n",
    "\n",
    "then 10 copies of the array will be placed into the object store. This takes up more memory in the object store than is necessary, and it also takes time to copy the array into the object store over and over. This can be made more efficient by placing the array in the object store only once as follows.\n",
    "\n",
    "```python\n",
    "x_id = ray.put(x)\n",
    "for i in range(10):\n",
    "    f.remote(x_id)\n",
    "```\n",
    "\n",
    "In this exercise, you will speed up the code below and reduce the memory footprint by calling `ray.put` on the neural net weights before passing them into the remote functions.\n",
    "\n",
    "**WARNING:** This exercise requires a lot of memory to run. If this notebook is running within a Docker container, then the docker container must be started with a large shared-memory file system. This can be done by starting the docker container with the `--shm-size` flag."
   ]
  },
  {
   "cell_type": "code",
   "execution_count": 64,
   "id": "60242482e441eeeb",
   "metadata": {},
   "outputs": [],
   "source": [
    "neural_net_weights = {'variable{}'.format(i): np.random.normal(size=1000000)\n",
    "                      for i in range(50)}"
   ]
  },
  {
   "cell_type": "markdown",
   "id": "5e201ddd40933862",
   "metadata": {},
   "source": [
    "**EXERCISE:** Compare the time required to serialize the neural net weights and copy them into the object store using Ray versus the time required to pickle and unpickle the weights. The big win should be with the time required for *deserialization*.\n",
    "\n",
    "Note that when you call `ray.put`, in addition to serializing the object, we are copying it into shared memory where it can be efficiently accessed by other workers on the same machine.\n",
    "\n",
    "**NOTE:** You don't actually have to do anything here other than run the cell below and read the output.\n",
    "\n",
    "**NOTE:** Sometimes `ray.put` can be faster than `pickle.dumps`. This is because `ray.put` leverages multiple threads when serializing large objects. Note that this is not possible with `pickle`."
   ]
  },
  {
   "cell_type": "code",
   "execution_count": 65,
   "id": "a54d5c96fbb07160",
   "metadata": {},
   "outputs": [
    {
     "name": "stdout",
     "output_type": "stream",
     "text": [
      "Ray - serializing\n",
      "CPU times: user 481 ms, sys: 1.74 s, total: 2.22 s\n",
      "Wall time: 2.89 s\n",
      "\n",
      "Ray - deserializing\n",
      "CPU times: user 1.55 ms, sys: 1.38 ms, total: 2.92 ms\n",
      "Wall time: 2.1 ms\n",
      "\n",
      "pickle - serializing\n",
      "CPU times: user 351 ms, sys: 437 ms, total: 788 ms\n",
      "Wall time: 851 ms\n",
      "\n",
      "pickle - deserializing\n",
      "CPU times: user 267 ms, sys: 255 ms, total: 522 ms\n",
      "Wall time: 530 ms\n"
     ]
    }
   ],
   "source": [
    "print('Ray - serializing')\n",
    "%time x_id = ray.put(neural_net_weights)\n",
    "print('\\nRay - deserializing')\n",
    "%time x_val = ray.get(x_id)\n",
    "\n",
    "print('\\npickle - serializing')\n",
    "%time serialized = pickle.dumps(neural_net_weights)\n",
    "print('\\npickle - deserializing')\n",
    "%time deserialized = pickle.loads(serialized)"
   ]
  },
  {
   "cell_type": "markdown",
   "id": "79881ec1b5f3edab",
   "metadata": {},
   "source": [
    "Define a remote function which uses the neural net weights."
   ]
  },
  {
   "cell_type": "code",
   "execution_count": 60,
   "id": "878a4b621cc8d7f8",
   "metadata": {},
   "outputs": [],
   "source": [
    "@ray.remote\n",
    "def use_weights(weights, i):\n",
    "    len(weights)\n",
    "    return i"
   ]
  },
  {
   "cell_type": "markdown",
   "id": "7490b7fc637eee85",
   "metadata": {},
   "source": [
    "**EXERCISE:** In the code below, use `ray.put` to avoid copying the neural net weights to the object store multiple times."
   ]
  },
  {
   "cell_type": "code",
   "execution_count": 61,
   "id": "a64f7226e496f9d1",
   "metadata": {},
   "outputs": [],
   "source": [
    "# Sleep a little to improve the accuracy of the timing measurements below.\n",
    "time.sleep(2.0)\n",
    "start_time = time.time()\n",
    "\n",
    "putted_weights =  ray.put(neural_net_weights)\n",
    "\n",
    "results = ray.get([use_weights.remote(putted_weights, i)\n",
    "                   for i in range(20)])\n",
    "\n",
    "end_time = time.time()\n",
    "duration = end_time - start_time"
   ]
  },
  {
   "cell_type": "markdown",
   "id": "ac5a46dfaf9b4496",
   "metadata": {},
   "source": [
    "**VERIFY:** Run some checks to verify that the changes you made to the code were correct. Some of the checks should fail when you initially run the cells. After completing the exercises, the checks should pass."
   ]
  },
  {
   "cell_type": "code",
   "execution_count": 62,
   "id": "b487df9262dbda79",
   "metadata": {},
   "outputs": [
    {
     "name": "stdout",
     "output_type": "stream",
     "text": [
      "Success! The example took 0.8761217594146729 seconds.\n"
     ]
    }
   ],
   "source": [
    "assert results == list(range(20))\n",
    "assert duration < 1, ('The experiments ran in {} seconds. This is too '\n",
    "                      'slow.'.format(duration))\n",
    "\n",
    "print('Success! The example took {} seconds.'.format(duration))"
   ]
  },
  {
   "cell_type": "code",
   "execution_count": 63,
   "id": "aa9f3cdf9f18063d",
   "metadata": {},
   "outputs": [
    {
     "name": "stdout",
     "output_type": "stream",
     "text": [
      "parameter server\n",
      "Actor(ParameterSever, 767e80a8ec8b4fa65535679602000000)\n",
      "Initial params: [0. 0. 0. 0. 0. 0. 0. 0. 0. 0.]\n",
      "[ObjectRef(24a05b1f5d514261ffffffffffffffffffffffff0200000001000000), ObjectRef(6e34b295c1a90c49ffffffffffffffffffffffff0200000001000000), ObjectRef(2a1d166c8b68dd6bffffffffffffffffffffffff0200000001000000)]\n",
      "Updated params: [0. 0. 0. 0. 0. 0. 0. 0. 0. 0.]\n",
      "Updated params: [0. 0. 0. 0. 0. 0. 0. 0. 0. 0.]\n",
      "Updated params: [-53. -47. -38. -70. -38. -67. -18. -66. -53. -50.]\n",
      "Updated params: [-53. -47. -38. -70. -38. -67. -18. -66. -53. -50.]\n",
      "Updated params: [-116.  -91.  -96. -125.  -93. -123.  -43. -127. -110.  -93.]\n",
      "Updated params: [-198. -111. -158. -172. -122. -160. -117. -165. -159. -164.]\n",
      "Updated params: [-231. -178. -224. -228. -154. -202. -151. -224. -182. -218.]\n",
      "Updated params: [-231. -178. -224. -228. -154. -202. -151. -224. -182. -218.]\n",
      "Updated params: [-261. -227. -284. -277. -212. -245. -181. -268. -237. -282.]\n",
      "Updated params: [-292. -279. -326. -311. -265. -304. -233. -313. -268. -287.]\n",
      "Updated params: [-292. -279. -326. -311. -265. -304. -233. -313. -268. -287.]\n",
      "Updated params: [-334. -298. -358. -348. -274. -319. -287. -363. -303. -331.]\n",
      "Updated params: [-352. -372. -401. -393. -320. -325. -347. -401. -341. -356.]\n",
      "Updated params: [-352. -372. -401. -393. -320. -325. -347. -401. -341. -356.]\n",
      "Updated params: [-370. -425. -470. -439. -350. -341. -380. -428. -367. -389.]\n",
      "Updated params: [-413. -454. -516. -475. -395. -386. -424. -464. -414. -438.]\n",
      "Updated params: [-413. -454. -516. -475. -395. -386. -424. -464. -414. -438.]\n",
      "Updated params: [-473. -512. -570. -535. -441. -421. -469. -531. -421. -477.]\n",
      "Updated params: [-507. -541. -592. -605. -488. -447. -517. -589. -450. -529.]\n",
      "Updated params: [-507. -541. -592. -605. -488. -447. -517. -589. -450. -529.]\n"
     ]
    }
   ],
   "source": [
    "# Example: Parameter Server distributed application with Ray Actors\n",
    "# Problem: We want to update weights and gradients, computed by workers, at a central server.\n",
    "# Let's use Python class and convert that to a remote Actor class actor as a Parameter Server.\n",
    "# This is a common example in machine learning where you have a central\n",
    "# Parameter server updating gradients from other worker processes computing individual gradients.\n",
    "\n",
    "print('parameter server')\n",
    "@ray.remote\n",
    "class ParameterSever:\n",
    "    def __init__(self):\n",
    "        # Initialized our gradients to zero\n",
    "        self.params = np.zeros(10)\n",
    "\n",
    "    def get_params(self):\n",
    "        # Return current gradients\n",
    "        return self.params\n",
    "\n",
    "    def update_params(self, grad):\n",
    "        # Update the gradients\n",
    "        self.params -= grad\n",
    "\n",
    "# Define a worker or task as a function for a remote Worker. This could be a\n",
    "# machine learning function that computes gradients and sends them to\n",
    "# the parameter server.\n",
    "\n",
    "@ray.remote\n",
    "def worker(ps):         # It takes an actor handle or instance as an argument\n",
    "    # Iterate over some epoch\n",
    "    for i in range(25):\n",
    "        time.sleep(1.5)  # this could be your loss function computing gradients\n",
    "        #grad = np.ones(10)\n",
    "        from numpy import random\n",
    "        grad = random.randint(30, size=(10))\n",
    "        # update the gradients in the parameter server\n",
    "        ps.update_params.remote(grad)\n",
    "\n",
    "# Start our Parameter Server actor. This will be scheduled as a worker process\n",
    "# on a remote Ray node. You invoke its ActorClass.remote(...) to instantiate an\n",
    "# Actor instance of that type.\n",
    "\n",
    "param_server = ParameterSever.remote()\n",
    "print(param_server)\n",
    "\n",
    "# Let's get the initial values of the parameter server\n",
    "print(f\"Initial params: {ray.get(param_server.get_params.remote())}\")\n",
    "\n",
    "# Create Workers remote tasks computing gradients\n",
    "# Let's create three separate worker tasks as our machine learning tasks\n",
    "# that compute gradients. These will be scheduled as tasks on a Ray cluster.\n",
    "\n",
    "# You can use list comprehension.\n",
    "# If we need more workers to scale, we can always bump them up.\n",
    "# Note: We are sending the parameter_server as an argument to the remote worker task.\n",
    "\n",
    "print([worker.remote(param_server) for _ in range(3)])\n",
    "\n",
    "# Now, let's iterate over a loop and query the Parameter Server as the\n",
    "# workers are running independently and updating the gradients\n",
    "\n",
    "for _i in range(20):\n",
    "    print(f\"Updated params: {ray.get(param_server.get_params.remote())}\")\n",
    "    time.sleep(1)"
   ]
  },
  {
   "cell_type": "markdown",
   "id": "e33ffc2cadd7be89",
   "metadata": {},
   "source": [
    "**Excercise:** Based on the previous example, create an actor-based system that can compute Pi using the Monte Carlo method. There should be one supervising actor and computing tasks/actors. \n",
    "\n",
    "Hint: take a look on https://docs.ray.io/en/latest/ray-core/examples/monte_carlo_pi.html . However, we do not want to have progress listed. Instead, we want to see as we get closer to the Pi value in each round.\n",
    "\n",
    "\n",
    "![monte-carlo](img/monte_carlo_pi_sma.png)\n"
   ]
  },
  {
   "cell_type": "code",
   "execution_count": null,
   "id": "6f48a5bffd5f672b",
   "metadata": {
    "ExecuteTime": {
     "end_time": "2024-03-26T14:47:10.433505900Z",
     "start_time": "2024-03-26T14:47:10.396512Z"
    }
   },
   "outputs": [],
   "source": [
    "# implement here \n"
   ]
  },
  {
   "cell_type": "markdown",
   "id": "61ff181af23dc9e0",
   "metadata": {},
   "source": [
    "## Clean up  - Clean up the environemnt\n",
    "\n",
    "**GOAL:** The goal of this exercise is to close the environment once you finish play with ray `ray.shutdown`."
   ]
  },
  {
   "cell_type": "code",
   "execution_count": 67,
   "id": "fc7e639a185eeb37",
   "metadata": {},
   "outputs": [],
   "source": [
    "ray.shutdown()"
   ]
  },
  {
   "cell_type": "markdown",
   "id": "397c8bea",
   "metadata": {},
   "source": [
    "TASK 2 -\n",
    "\n",
    "rozproszony system plików\n",
    "\n",
    "łączenie klientem z klastrem, który przez shell daje komendy"
   ]
  }
 ],
 "metadata": {
  "kernelspec": {
   "display_name": "Python 3 (ipykernel)",
   "language": "python",
   "name": "python3"
  },
  "language_info": {
   "codemirror_mode": {
    "name": "ipython",
    "version": 3
   },
   "file_extension": ".py",
   "mimetype": "text/x-python",
   "name": "python",
   "nbconvert_exporter": "python",
   "pygments_lexer": "ipython3",
   "version": "3.9.12"
  }
 },
 "nbformat": 4,
 "nbformat_minor": 5
}
